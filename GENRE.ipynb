{
 "cells": [
  {
   "cell_type": "code",
   "execution_count": 23,
   "id": "a021cf62",
   "metadata": {},
   "outputs": [],
   "source": [
    "import pandas as pd\n",
    "import numpy as np\n",
    "from sklearn.feature_extraction.text import TfidfVectorizer\n",
    "from sklearn.multioutput import MultiOutputClassifier\n",
    "from sklearn.naive_bayes import MultinomialNB\n",
    "from sklearn.preprocessing import MultiLabelBinarizer\n",
    "from sklearn.metrics import accuracy_score, precision_score, recall_score, f1_score\n",
    "from tqdm import tqdm"
   ]
  },
  {
   "cell_type": "code",
   "execution_count": 24,
   "id": "617b3444",
   "metadata": {},
   "outputs": [
    {
     "name": "stderr",
     "output_type": "stream",
     "text": [
      "Loading Train Data: 100%|██████████| 50/50 [00:00<00:00, 108.53it/s]\n"
     ]
    }
   ],
   "source": [
    "#load train data\n",
    "try:\n",
    "    with tqdm(total=50, desc=\"Loading Train Data\") as pbar:\n",
    "        train_data = pd.read_csv(\"train_data.txt\", sep=':::', header=None, names=['SerialNumber', 'MOVIE_NAME', 'GENRE', 'MOVIE_PLOT'], engine='python')\n",
    "        pbar.update(50)\n",
    "except Exception as e:\n",
    "    print(f\"Error loading train_data: {e}\")\n",
    "    raise"
   ]
  },
  {
   "cell_type": "code",
   "execution_count": 25,
   "id": "d8bcfbd3",
   "metadata": {},
   "outputs": [
    {
     "name": "stdout",
     "output_type": "stream",
     "text": [
      "[' drama ' ' thriller ' ' adult ' ' documentary ' ' comedy ' ' crime '\n",
      " ' reality-tv ' ' horror ' ' sport ' ' animation ' ' action ' ' fantasy '\n",
      " ' short ' ' sci-fi ' ' music ' ' adventure ' ' talk-show ' ' western '\n",
      " ' family ' ' mystery ' ' history ' ' news ' ' biography ' ' romance '\n",
      " ' game-show ' ' musical ' ' war ']\n"
     ]
    }
   ],
   "source": [
    "#list of genre\n",
    "genre_list = train_data[\"GENRE\"].unique()\n",
    "print(genre_list)"
   ]
  },
  {
   "cell_type": "code",
   "execution_count": 26,
   "id": "2ed5325f",
   "metadata": {},
   "outputs": [],
   "source": [
    "#fallback genre for movies which moel find hard to predict\n",
    "fallback_genre = 'Unknown'"
   ]
  },
  {
   "cell_type": "code",
   "execution_count": 6,
   "id": "10b3d7a4",
   "metadata": {},
   "outputs": [],
   "source": [
    "#data preprocessing\n",
    "X_train = train_data['MOVIE_PLOT'].astype(str).apply(lambda doc: doc.lower())\n",
    "genre_labels = [genre.split(', ') for genre in train_data['GENRE']]\n",
    "mlb = MultiLabelBinarizer()\n",
    "y_train = mlb.fit_transform(genre_labels)"
   ]
  },
  {
   "cell_type": "code",
   "execution_count": 7,
   "id": "14055b5a",
   "metadata": {},
   "outputs": [],
   "source": [
    "#vectorization\n",
    "tfidf_vectorizer = TfidfVectorizer(max_features=5000)  # You can adjust max_features"
   ]
  },
  {
   "cell_type": "code",
   "execution_count": 8,
   "id": "12762bac",
   "metadata": {},
   "outputs": [
    {
     "name": "stderr",
     "output_type": "stream",
     "text": [
      "Vectorizing Training Data:   0%|          | 0/50 [00:00<?, ?it/s]"
     ]
    },
    {
     "name": "stderr",
     "output_type": "stream",
     "text": [
      "Vectorizing Training Data: 100%|██████████| 50/50 [00:05<00:00,  8.78it/s]\n"
     ]
    }
   ],
   "source": [
    "# transform\n",
    "with tqdm(total=50, desc=\"Vectorizing Training Data\") as pbar:\n",
    "    X_train_tfidf = tfidf_vectorizer.fit_transform(X_train)\n",
    "    pbar.update(50)"
   ]
  },
  {
   "cell_type": "code",
   "execution_count": 9,
   "id": "b09dbd92",
   "metadata": {},
   "outputs": [
    {
     "name": "stderr",
     "output_type": "stream",
     "text": [
      "Training Model: 100%|██████████| 50/50 [00:00<00:00, 64.96it/s]\n"
     ]
    }
   ],
   "source": [
    "#naive bayes classifier\n",
    "with tqdm(total=50, desc=\"Training Model\") as pbar:\n",
    "    naive_bayes = MultinomialNB()\n",
    "    multi_output_classifier = MultiOutputClassifier(naive_bayes)\n",
    "    multi_output_classifier.fit(X_train_tfidf, y_train)\n",
    "    pbar.update(50)"
   ]
  },
  {
   "cell_type": "code",
   "execution_count": 10,
   "id": "7b56d978",
   "metadata": {},
   "outputs": [
    {
     "name": "stderr",
     "output_type": "stream",
     "text": [
      "Loading Test Data: 100%|██████████| 50/50 [00:00<00:00, 101.30it/s]\n"
     ]
    }
   ],
   "source": [
    "#load test data\n",
    "try:\n",
    "    with tqdm(total=50, desc=\"Loading Test Data\") as pbar:\n",
    "        test_data = pd.read_csv(\"test_data.txt\", sep=':::', header=None, names=['SerialNumber', 'MOVIE_NAME', 'MOVIE_PLOT'], engine='python')\n",
    "        pbar.update(50)\n",
    "except Exception as e:\n",
    "    print(f\"Error loading test_data: {e}\")\n",
    "    raise"
   ]
  },
  {
   "cell_type": "code",
   "execution_count": 11,
   "id": "f6368d42",
   "metadata": {},
   "outputs": [],
   "source": [
    "#preprocessing\n",
    "X_test = test_data['MOVIE_PLOT'].astype(str).apply(lambda doc: doc.lower())"
   ]
  },
  {
   "cell_type": "code",
   "execution_count": 12,
   "id": "62854461",
   "metadata": {},
   "outputs": [
    {
     "name": "stderr",
     "output_type": "stream",
     "text": [
      "Vectorizing Test Data:   0%|          | 0/50 [00:00<?, ?it/s]"
     ]
    },
    {
     "name": "stderr",
     "output_type": "stream",
     "text": [
      "Vectorizing Test Data: 100%|██████████| 50/50 [00:05<00:00,  9.16it/s]\n"
     ]
    }
   ],
   "source": [
    "#transform\n",
    "with tqdm(total=50, desc=\"Vectorizing Test Data\") as pbar:\n",
    "    X_test_tfidf = tfidf_vectorizer.transform(X_test)\n",
    "    pbar.update(50)"
   ]
  },
  {
   "cell_type": "code",
   "execution_count": 13,
   "id": "daf33576",
   "metadata": {},
   "outputs": [
    {
     "name": "stderr",
     "output_type": "stream",
     "text": [
      "Predicting on Test Data: 100%|██████████| 50/50 [00:00<00:00, 86.08it/s]\n"
     ]
    }
   ],
   "source": [
    "#predict\n",
    "with tqdm(total=50, desc=\"Predicting on Test Data\") as pbar:\n",
    "    y_pred = multi_output_classifier.predict(X_test_tfidf)\n",
    "    pbar.update(50)"
   ]
  },
  {
   "cell_type": "code",
   "execution_count": 14,
   "id": "d5366829",
   "metadata": {},
   "outputs": [],
   "source": [
    "# dataframe for test data with movie names and predicted genres\n",
    "test_movie_names = test_data['MOVIE_NAME']\n",
    "predicted_genres = mlb.inverse_transform(y_pred)\n",
    "test_results = pd.DataFrame({'MOVIE_NAME': test_movie_names, 'PREDICTED_GENRES': predicted_genres})"
   ]
  },
  {
   "cell_type": "code",
   "execution_count": 15,
   "id": "731fa421",
   "metadata": {},
   "outputs": [],
   "source": [
    "#unpredicted with fallback \n",
    "test_results['PREDICTED_GENRES'] = test_results['PREDICTED_GENRES'].apply(lambda genres: [fallback_genre] if len(genres) == 0 else genres)\n",
    "test_results['Serial_Number']=test_data['SerialNumber']\n",
    "test_results['MOVIE_PLOT']=test_data['MOVIE_PLOT']"
   ]
  },
  {
   "cell_type": "code",
   "execution_count": 16,
   "id": "fe9cdcd9",
   "metadata": {},
   "outputs": [],
   "source": [
    "#result to output file\n",
    "with open(\"test_data_solution.txt\", \"w\", encoding=\"utf-8\") as output_file:\n",
    "    for _, row in test_results.iterrows():\n",
    "        id=row['Serial_Number']\n",
    "        movie_name = row['MOVIE_NAME']\n",
    "        genre_str = ', '.join(row['PREDICTED_GENRES'])\n",
    "        plot=row['MOVIE_PLOT']\n",
    "        output_file.write(f\"{id} ::: {movie_name} ::: {genre_str} ::: {plot}\\n\")"
   ]
  },
  {
   "cell_type": "code",
   "execution_count": 17,
   "id": "5637c512",
   "metadata": {},
   "outputs": [],
   "source": [
    "#evaluation metrics\n",
    "y_train_pred = multi_output_classifier.predict(X_train_tfidf)"
   ]
  },
  {
   "cell_type": "code",
   "execution_count": 18,
   "id": "802c1c21",
   "metadata": {},
   "outputs": [],
   "source": [
    "#score\n",
    "accuracy = accuracy_score(y_train, y_train_pred)\n",
    "precision = precision_score(y_train, y_train_pred, average='micro')\n",
    "recall = recall_score(y_train, y_train_pred, average='micro')\n",
    "f1 = f1_score(y_train, y_train_pred, average='micro')"
   ]
  },
  {
   "cell_type": "code",
   "execution_count": 27,
   "id": "bd8255a7",
   "metadata": {},
   "outputs": [
    {
     "name": "stdout",
     "output_type": "stream",
     "text": [
      "\n",
      "\n",
      "Model Evaluation Metrics:\n",
      "\n",
      "Accuracy: 27.73%\n",
      "\n",
      "Precision: 0.72\n",
      "\n",
      "Recall: 0.28\n",
      "\n",
      "F1-score: 0.40\n",
      "\n"
     ]
    }
   ],
   "source": [
    "#print scores\n",
    "print(\"\\n\\nModel Evaluation Metrics:\\n\")\n",
    "print(f\"Accuracy: {accuracy * 100:.2f}%\\n\")\n",
    "print(f\"Precision: {precision:.2f}\\n\")\n",
    "print(f\"Recall: {recall:.2f}\\n\")\n",
    "print(f\"F1-score: {f1:.2f}\\n\")"
   ]
  }
 ],
 "metadata": {
  "kernelspec": {
   "display_name": "Python 3 (ipykernel)",
   "language": "python",
   "name": "python3"
  },
  "language_info": {
   "codemirror_mode": {
    "name": "ipython",
    "version": 3
   },
   "file_extension": ".py",
   "mimetype": "text/x-python",
   "name": "python",
   "nbconvert_exporter": "python",
   "pygments_lexer": "ipython3",
   "version": "3.11.2"
  }
 },
 "nbformat": 4,
 "nbformat_minor": 5
}
